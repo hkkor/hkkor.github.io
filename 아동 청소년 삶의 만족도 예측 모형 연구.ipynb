{
  "nbformat": 4,
  "nbformat_minor": 0,
  "metadata": {
    "colab": {
      "name": "1007",
      "provenance": [],
      "authorship_tag": "ABX9TyP75GfSbjFAlHPS5OnxpZGl",
      "include_colab_link": true
    },
    "kernelspec": {
      "name": "python3",
      "display_name": "Python 3"
    }
  },
  "cells": [
    {
      "cell_type": "markdown",
      "metadata": {
        "id": "view-in-github",
        "colab_type": "text"
      },
      "source": [
        "<a href=\"https://colab.research.google.com/github/hkkor/hkkor.github.io/blob/master/%EC%95%84%EB%8F%99%20%EC%B2%AD%EC%86%8C%EB%85%84%20%EC%82%B6%EC%9D%98%20%EB%A7%8C%EC%A1%B1%EB%8F%84%20%EC%98%88%EC%B8%A1%20%EB%AA%A8%ED%98%95%20%EC%97%B0%EA%B5%AC.ipynb\" target=\"_parent\"><img src=\"https://colab.research.google.com/assets/colab-badge.svg\" alt=\"Open In Colab\"/></a>"
      ]
    },
    {
      "cell_type": "code",
      "metadata": {
        "id": "NGR-cDafK4O5",
        "outputId": "f70c44c0-c92d-40c0-9127-878bf077854a",
        "colab": {
          "base_uri": "https://localhost:8080/"
        }
      },
      "source": [
        "from google.colab import drive \n",
        "drive.mount('/gdrive')\n",
        "\n",
        "import pandas as pd\n",
        "mynpl = pd.read_csv('/gdrive/My Drive/Colab Notebooks/mynpl.csv')  "
      ],
      "execution_count": null,
      "outputs": [
        {
          "output_type": "stream",
          "text": [
            "Drive already mounted at /gdrive; to attempt to forcibly remount, call drive.mount(\"/gdrive\", force_remount=True).\n"
          ],
          "name": "stdout"
        }
      ]
    },
    {
      "cell_type": "code",
      "metadata": {
        "id": "Wg3zdCT86Kmt"
      },
      "source": [
        "import matplotlib.pyplot as plt\n",
        "\n",
        "plt.rc('font', family='NanumBarunGothic') "
      ],
      "execution_count": null,
      "outputs": []
    },
    {
      "cell_type": "code",
      "metadata": {
        "id": "FZzd6I64NEjV"
      },
      "source": [
        "feature_cols = ['YFAM2C02w1', 'YEDU1A00w1', 'YPSY2A03w1', 'YPSY3A04w1',\n",
        "       'YPSY3A10w1', 'YPSY2A02w1', 'YPSY2A01w1', 'YPSY3A01w1', 'YINT2B11w1',\n",
        "       'YPSY4B06w1', 'YPSY4E06w1']\n",
        "X = mynpl.loc[:, feature_cols]\n",
        "Y = mynpl.satisfaction"
      ],
      "execution_count": null,
      "outputs": []
    },
    {
      "cell_type": "code",
      "metadata": {
        "id": "6dqt6GfQNGLd",
        "outputId": "6db4a335-668d-42e9-b19d-1186eb08851d",
        "colab": {
          "base_uri": "https://localhost:8080/"
        }
      },
      "source": [
        "import sys\n",
        "print(\"Python 버전:\", sys.version)\n",
        "\n",
        "import pandas as pd\n",
        "print(\"pandas 버전:\", pd.__version__)\n",
        "\n",
        "import matplotlib\n",
        "print(\"matplotlib 버전:\", matplotlib.__version__)\n",
        "\n",
        "import numpy as np\n",
        "print(\"NumPy 버전:\", np.__version__)\n",
        "\n",
        "import scipy as sp\n",
        "print(\"SciPy 버전:\", sp.__version__)\n",
        "\n",
        "import IPython\n",
        "print(\"IPython 버전:\", IPython.__version__)\n",
        "\n",
        "import sklearn\n",
        "print(\"Sklearn 버전:\", sklearn.__version__)\n"
      ],
      "execution_count": null,
      "outputs": [
        {
          "output_type": "stream",
          "text": [
            "Python 버전: 3.6.9 (default, Jul 17 2020, 12:50:27) \n",
            "[GCC 8.4.0]\n",
            "pandas 버전: 1.1.2\n",
            "matplotlib 버전: 3.2.2\n",
            "NumPy 버전: 1.18.5\n",
            "SciPy 버전: 1.4.1\n",
            "IPython 버전: 5.5.0\n",
            "Sklearn 버전: 0.22.2.post1\n"
          ],
          "name": "stdout"
        }
      ]
    },
    {
      "cell_type": "code",
      "metadata": {
        "id": "uErCLl20NHpz"
      },
      "source": [
        "from sklearn.model_selection import train_test_split\n",
        "from sklearn.neighbors import KNeighborsClassifier\n",
        "import matplotlib.pyplot as plt"
      ],
      "execution_count": null,
      "outputs": []
    },
    {
      "cell_type": "markdown",
      "metadata": {
        "id": "BP88lgSogGLf"
      },
      "source": [
        "훈련 세트와 테스트 세트로 나누고 이웃의 수를 달리 하여 훈련 세트와 테스트 세트의 성능을 평가함"
      ]
    },
    {
      "cell_type": "code",
      "metadata": {
        "id": "2JFDBbV9NMjf",
        "outputId": "2b019525-e68f-4f2d-8966-9633318aba5c",
        "colab": {
          "base_uri": "https://localhost:8080/",
          "height": 297
        }
      },
      "source": [
        "X_train, X_test, y_train, y_test = train_test_split(\n",
        "    X, Y, stratify=Y, random_state=66)\n",
        "\n",
        "training_accuracy = []\n",
        "test_accuracy = []\n",
        "# 1 에서 10 까지 n_neighbors 를 적용\n",
        "neighbors_settings = range(1, 11)\n",
        "\n",
        "for n_neighbors in neighbors_settings:\n",
        "    # 모델 생성\n",
        "    clf = KNeighborsClassifier(n_neighbors=n_neighbors)\n",
        "    clf.fit(X_train, y_train)\n",
        "    # 훈련 세트 정확도 저장\n",
        "    training_accuracy.append(clf.score(X_train, y_train))\n",
        "    # 일반화 정확도 저장\n",
        "    test_accuracy.append(clf.score(X_test, y_test))\n",
        "    \n",
        "plt.plot(neighbors_settings, training_accuracy, label=\"훈련 정확도\")\n",
        "plt.plot(neighbors_settings, test_accuracy, label=\"테스트 정확도\")\n",
        "plt.ylabel(\"정확도\")\n",
        "plt.xlabel(\"n_neighbors\")\n",
        "plt.legend()"
      ],
      "execution_count": null,
      "outputs": [
        {
          "output_type": "execute_result",
          "data": {
            "text/plain": [
              "<matplotlib.legend.Legend at 0x7fdd3e7a59e8>"
            ]
          },
          "metadata": {
            "tags": []
          },
          "execution_count": 6
        },
        {
          "output_type": "display_data",
          "data": {
            "image/png": "[encoded data removed]",
            "text/plain": [
              "<Figure size 432x288 with 1 Axes>"
            ]
          },
          "metadata": {
            "tags": [],
            "needs_background": "light"
          }
        }
      ]
    },
    {
      "cell_type": "markdown",
      "metadata": {
        "id": "0bRqVHHJhHEJ"
      },
      "source": [
        "## 로지스틱 회귀분석"
      ]
    },
    {
      "cell_type": "code",
      "metadata": {
        "id": "wBqCgmi1NRGN"
      },
      "source": [
        "from sklearn.linear_model import LogisticRegression"
      ],
      "execution_count": null,
      "outputs": []
    },
    {
      "cell_type": "code",
      "metadata": {
        "id": "4qQxoXguOekj",
        "outputId": "ef3abcbe-6f90-4696-f753-1078d6f5d92a",
        "colab": {
          "base_uri": "https://localhost:8080/"
        }
      },
      "source": [
        "logreg = LogisticRegression(max_iter=5000).fit(X_train, y_train)\n",
        "print(\"훈련 세트 점수: {:.3f}\".format(logreg.score(X_train, y_train)))\n",
        "print(\"테스트 세트 점수: {:.3f}\".format(logreg.score(X_test, y_test)))"
      ],
      "execution_count": null,
      "outputs": [
        {
          "output_type": "stream",
          "text": [
            "훈련 세트 점수: 0.889\n",
            "테스트 세트 점수: 0.887\n"
          ],
          "name": "stdout"
        }
      ]
    },
    {
      "cell_type": "markdown",
      "metadata": {
        "id": "cT0qTu95hOxZ"
      },
      "source": [
        "*   규제의 강도(C) 를 기본값 1.0 으로 지정하여 로지스틱 회귀분석한 결과 훈련 세트와 테스트 세트 양쪽에 88% 정확도의 성능을 냄.\n",
        "*   두 세트 정확도가 비슷하므로 과소적합임을 추측함."
      ]
    },
    {
      "cell_type": "code",
      "metadata": {
        "id": "3jopuaiyOgCU",
        "outputId": "bdb45164-c8ff-43d2-c0df-3d833f5b3274",
        "colab": {
          "base_uri": "https://localhost:8080/"
        }
      },
      "source": [
        "logreg100 = LogisticRegression(C=100, max_iter=5000).fit(X_train, y_train)\n",
        "print(\"훈련 세트 점수: {:.3f}\".format(logreg100.score(X_train, y_train)))\n",
        "print(\"테스트 세트 점수: {:.3f}\".format(logreg100.score(X_test, y_test)))"
      ],
      "execution_count": null,
      "outputs": [
        {
          "output_type": "stream",
          "text": [
            "훈련 세트 점수: 0.889\n",
            "테스트 세트 점수: 0.887\n"
          ],
          "name": "stdout"
        }
      ]
    },
    {
      "cell_type": "markdown",
      "metadata": {
        "id": "JkyeG0-6iHqe"
      },
      "source": [
        "\n",
        "\n",
        "*   모델의 제약을 더 풀어줌(C=100)\n",
        "*   C=1.0 대비 훈련 세트와 테스트 세트의 정확도 변화가 없음\n",
        "* 복잡도가 높지 않은 모델임을 알 수 있음\n",
        "\n",
        "\n"
      ]
    },
    {
      "cell_type": "code",
      "metadata": {
        "id": "-Bv36q6sOha7",
        "outputId": "bafdd445-12dd-4592-aa95-e38a4659db3a",
        "colab": {
          "base_uri": "https://localhost:8080/"
        }
      },
      "source": [
        "logreg001 = LogisticRegression(C=0.01, max_iter=9000).fit(X_train, y_train)\n",
        "print(\"훈련 세트 점수: {:.3f}\".format(logreg001.score(X_train, y_train)))\n",
        "print(\"테스트 세트 점수: {:.3f}\".format(logreg001.score(X_test, y_test)))"
      ],
      "execution_count": null,
      "outputs": [
        {
          "output_type": "stream",
          "text": [
            "훈련 세트 점수: 0.876\n",
            "테스트 세트 점수: 0.864\n"
          ],
          "name": "stdout"
        }
      ]
    },
    {
      "cell_type": "markdown",
      "metadata": {
        "id": "lCER9PYPi37X"
      },
      "source": [
        "* 규제를 더 강하게 지정함(C=0.01)\n",
        "* 이미 과소적합된 모델에서 더욱 복잡도를 낮추는 결과 정확도가 떨어짐"
      ]
    },
    {
      "cell_type": "markdown",
      "metadata": {
        "id": "CcsLGEYzj1EE"
      },
      "source": [
        "### 규제 매개변수 C 설정을 세 가지로 다르게 학습시킨 모델의 특성별 계수 크기 비교"
      ]
    },
    {
      "cell_type": "code",
      "metadata": {
        "id": "giQhRbhUOinJ",
        "outputId": "4588cd52-f4bf-4ac1-ff04-defb62273167",
        "colab": {
          "base_uri": "https://localhost:8080/",
          "height": 402
        }
      },
      "source": [
        "plt.plot(logreg100.coef_.T, '^', label=\"C=100\")\n",
        "plt.plot(logreg.coef_.T, 'o', label=\"C=1\")\n",
        "plt.plot(logreg001.coef_.T, 'v', label=\"C=0.001\")\n",
        "plt.xticks(range(mynpl.shape[1]), mynpl, rotation=90)\n",
        "xlims = plt.xlim()\n",
        "plt.hlines(0, xlims[0], xlims[1])\n",
        "plt.xlim(xlims)\n",
        "plt.ylim(-5, 5)\n",
        "plt.xlabel(\"특성\")\n",
        "plt.ylabel(\"계수 크기\")\n",
        "plt.legend()\n"
      ],
      "execution_count": null,
      "outputs": [
        {
          "output_type": "execute_result",
          "data": {
            "text/plain": [
              "<matplotlib.legend.Legend at 0x7fdd3ba9cb00>"
            ]
          },
          "metadata": {
            "tags": []
          },
          "execution_count": 11
        },
        {
          "output_type": "stream",
          "text": [
            "/usr/local/lib/python3.6/dist-packages/matplotlib/backends/backend_agg.py:214: RuntimeWarning: Glyph 8722 missing from current font.\n",
            "  font.set_text(s, 0.0, flags=flags)\n",
            "/usr/local/lib/python3.6/dist-packages/matplotlib/backends/backend_agg.py:183: RuntimeWarning: Glyph 8722 missing from current font.\n",
            "  font.set_text(s, 0, flags=flags)\n"
          ],
          "name": "stderr"
        },
        {
          "output_type": "display_data",
          "data": {
            "image/png": "[encoded data removed]",
            "text/plain": [
              "<Figure size 432x288 with 1 Axes>"
            ]
          },
          "metadata": {
            "tags": [],
            "needs_background": "light"
          }
        }
      ]
    },
    {
      "cell_type": "markdown",
      "metadata": {
        "id": "H-OsmvGZkFwX"
      },
      "source": [
        "### L1 규제를 사용하여 각기 다른 C 값을 적용한 로지스틱 회귀 모델 계수"
      ]
    },
    {
      "cell_type": "code",
      "metadata": {
        "id": "y0Wm7q4rOkTC",
        "outputId": "aa9730cb-a12f-447a-c405-84a908715d66",
        "colab": {
          "base_uri": "https://localhost:8080/",
          "height": 504
        }
      },
      "source": [
        "for C, marker in zip([0.001, 1, 100], ['o', '^', 'v']):\n",
        "    lr_l1 = LogisticRegression(solver='liblinear', C=C, penalty=\"l1\", max_iter=1000).fit(X_train, y_train)\n",
        "    print(\"C={:.3f} 인 l1 로지스틱 회귀의 훈련 정확도: {:.2f}\".format(\n",
        "          C, lr_l1.score(X_train, y_train)))\n",
        "    print(\"C={:.3f} 인 l1 로지스틱 회귀의 테스트 정확도: {:.2f}\".format(\n",
        "          C, lr_l1.score(X_test, y_test)))\n",
        "    plt.plot(lr_l1.coef_.T, marker, label=\"C={:.3f}\".format(C))\n",
        "\n",
        "plt.xticks(range(mynpl.shape[1]), mynpl, rotation=90)\n",
        "xlims = plt.xlim()\n",
        "plt.hlines(0, xlims[0], xlims[1])\n",
        "plt.xlim(xlims)\n",
        "plt.xlabel(\"특성\")\n",
        "plt.ylabel(\"계수 크기\")\n",
        "\n",
        "plt.ylim(-5, 5)\n",
        "plt.legend(loc=3)"
      ],
      "execution_count": null,
      "outputs": [
        {
          "output_type": "stream",
          "text": [
            "C=0.001 인 l1 로지스틱 회귀의 훈련 정확도: 0.82\n",
            "C=0.001 인 l1 로지스틱 회귀의 테스트 정확도: 0.82\n",
            "C=1.000 인 l1 로지스틱 회귀의 훈련 정확도: 0.89\n",
            "C=1.000 인 l1 로지스틱 회귀의 테스트 정확도: 0.88\n",
            "C=100.000 인 l1 로지스틱 회귀의 훈련 정확도: 0.89\n",
            "C=100.000 인 l1 로지스틱 회귀의 테스트 정확도: 0.89\n"
          ],
          "name": "stdout"
        },
        {
          "output_type": "execute_result",
          "data": {
            "text/plain": [
              "<matplotlib.legend.Legend at 0x7fdd3e793438>"
            ]
          },
          "metadata": {
            "tags": []
          },
          "execution_count": 12
        },
        {
          "output_type": "stream",
          "text": [
            "/usr/local/lib/python3.6/dist-packages/matplotlib/backends/backend_agg.py:214: RuntimeWarning: Glyph 8722 missing from current font.\n",
            "  font.set_text(s, 0.0, flags=flags)\n",
            "/usr/local/lib/python3.6/dist-packages/matplotlib/backends/backend_agg.py:183: RuntimeWarning: Glyph 8722 missing from current font.\n",
            "  font.set_text(s, 0, flags=flags)\n"
          ],
          "name": "stderr"
        },
        {
          "output_type": "display_data",
          "data": {
            "image/png": "[encoded data removed]",
            "text/plain": [
              "<Figure size 432x288 with 1 Axes>"
            ]
          },
          "metadata": {
            "tags": [],
            "needs_background": "light"
          }
        }
      ]
    },
    {
      "cell_type": "markdown",
      "metadata": {
        "id": "t1GnlV989YyW"
      },
      "source": [
        "* YPSY2A01w1, YPSY2A02w1, YPSY3A10w1, YPSY3a04w1 특성이 삶의 만족도와 가장 관련이 깊음을 알 수 있다"
      ]
    },
    {
      "cell_type": "markdown",
      "metadata": {
        "id": "_zBFPj58-qIi"
      },
      "source": [
        "## 의사결정나무"
      ]
    },
    {
      "cell_type": "code",
      "metadata": {
        "id": "_CIJAThmOluN",
        "outputId": "8cc7b321-65e6-424c-f9f4-4b6ee38f5d68",
        "colab": {
          "base_uri": "https://localhost:8080/"
        }
      },
      "source": [
        "from sklearn.tree import DecisionTreeClassifier\n",
        "X_train, X_test, y_train, y_test = train_test_split(\n",
        "    X, Y, stratify=Y, random_state=42)\n",
        "tree = DecisionTreeClassifier(random_state=0)\n",
        "tree.fit(X_train, y_train)\n",
        "print(\"훈련 세트 정확도: {:.3f}\".format(tree.score(X_train, y_train)))\n",
        "print(\"테스트 세트 정확도: {:.3f}\".format(tree.score(X_test, y_test)))"
      ],
      "execution_count": null,
      "outputs": [
        {
          "output_type": "stream",
          "text": [
            "훈련 세트 정확도: 0.978\n",
            "테스트 세트 정확도: 0.833\n"
          ],
          "name": "stdout"
        }
      ]
    },
    {
      "cell_type": "markdown",
      "metadata": {
        "id": "wDK4MZyT-5B_"
      },
      "source": [
        "* 기본값 설정으로 완전한 (모든 리프 노드가 순수 노드가 될 때까지 생성한 트리) 모델 생성\n",
        "* random_state 옵션을 고정해 만들어진 트리를 같은 조건으로 비교\n",
        "* 테스트 세트의 정확도는 이전 선형 모델에서의 정확도인 89%보다 낮음\n"
      ]
    },
    {
      "cell_type": "markdown",
      "metadata": {
        "id": "jLzyv9wU_cfm"
      },
      "source": [
        "### 사전 가지치기를 적용하여 트리의 설장을 제한함(max_depth =4)"
      ]
    },
    {
      "cell_type": "code",
      "metadata": {
        "id": "DRWalEWhOnqq",
        "outputId": "c5428297-8fda-47ed-ebac-e2f624e852f5",
        "colab": {
          "base_uri": "https://localhost:8080/"
        }
      },
      "source": [
        "tree = DecisionTreeClassifier(max_depth=4, random_state=0)\n",
        "tree.fit(X_train, y_train)\n",
        "\n",
        "print(\"훈련 세트 정확도: {:.3f}\".format(tree.score(X_train, y_train)))\n",
        "print(\"테스트 세트 정확도: {:.3f}\".format(tree.score(X_test, y_test)))"
      ],
      "execution_count": null,
      "outputs": [
        {
          "output_type": "stream",
          "text": [
            "훈련 세트 정확도: 0.893\n",
            "테스트 세트 정확도: 0.873\n"
          ],
          "name": "stdout"
        }
      ]
    },
    {
      "cell_type": "markdown",
      "metadata": {
        "id": "24OH_yBR_pa2"
      },
      "source": [
        "* 트리 깊이를 제한하여 과대적합이 즐어듬\n",
        "* 훈련 세트 정확도는 낮아졌지만 테스트 세트의 성능을 개선함"
      ]
    },
    {
      "cell_type": "markdown",
      "metadata": {
        "id": "I8VJ2tVIACiY"
      },
      "source": [
        "### 시각화를 통한 의사결정나무 분석"
      ]
    },
    {
      "cell_type": "code",
      "metadata": {
        "id": "09GgAF09Oo3O"
      },
      "source": [
        "from sklearn.tree import export_graphviz\n",
        "export_graphviz(tree, out_file=\"tree.dot\", class_names=[\"불만\", \"만족\"],\n",
        "                feature_names=feature_cols, impurity=False, filled=True)"
      ],
      "execution_count": null,
      "outputs": []
    },
    {
      "cell_type": "code",
      "metadata": {
        "id": "ui7OpzSGOrd8",
        "outputId": "84537c4f-c475-40b3-9506-6bf2cce09198",
        "colab": {
          "base_uri": "https://localhost:8080/",
          "height": 677
        }
      },
      "source": [
        "import graphviz\n",
        "\n",
        "with open(\"tree.dot\",encoding='UTF-8') as f:\n",
        "    dot_graph = f.read()\n",
        "display(graphviz.Source(dot_graph))"
      ],
      "execution_count": null,
      "outputs": [
        {
          "output_type": "display_data",
          "data": {
            "text/plain": [
              "<graphviz.files.Source at 0x7fdd3ea312b0>"
            ],
            "image/svg+xml": "<?xml version=\"1.0\" encoding=\"UTF-8\" standalone=\"no\"?>\n<!DOCTYPE svg PUBLIC \"-//W3C//DTD SVG 1.1//EN\"\n \"http://www.w3.org/Graphics/SVG/1.1/DTD/svg11.dtd\">\n<!-- Generated by graphviz version 2.40.1 (20161225.0304)\n -->\n<!-- Title: Tree Pages: 1 -->\n<svg width=\"1721pt\" height=\"477pt\"\n viewBox=\"0.00 0.00 1721.00 477.00\" xmlns=\"http://www.w3.org/2000/svg\" xmlns:xlink=\"http://www.w3.org/1999/xlink\">\n<g id=\"graph0\" class=\"graph\" transform=\"scale(1 1) rotate(0) translate(4 473)\">\n<title>Tree</title>\n<polygon fill=\"#ffffff\" stroke=\"transparent\" points=\"-4,4 -4,-473 1717,-473 1717,4 -4,4\"/>\n<!-- 0 -->\n<g id=\"node1\" class=\"node\">\n<title>0</title>\n<polygon fill=\"#65b3eb\" stroke=\"#000000\" points=\"749,-469 601,-469 601,-401 749,-401 749,-469\"/>\n<text text-anchor=\"middle\" x=\"675\" y=\"-453.8\" font-family=\"Times,serif\" font-size=\"14.00\" fill=\"#000000\">YPSY3A01w1 &lt;= 2.5</text>\n<text text-anchor=\"middle\" x=\"675\" y=\"-438.8\" font-family=\"Times,serif\" font-size=\"14.00\" fill=\"#000000\">samples = 1942</text>\n<text text-anchor=\"middle\" x=\"675\" y=\"-423.8\" font-family=\"Times,serif\" font-size=\"14.00\" fill=\"#000000\">value = [356, 1586]</text>\n<text text-anchor=\"middle\" x=\"675\" y=\"-408.8\" font-family=\"Times,serif\" font-size=\"14.00\" fill=\"#000000\">class = 만족</text>\n</g>\n<!-- 1 -->\n<g id=\"node2\" class=\"node\">\n<title>1</title>\n<polygon fill=\"#f0b88f\" stroke=\"#000000\" points=\"614,-365 466,-365 466,-297 614,-297 614,-365\"/>\n<text text-anchor=\"middle\" x=\"540\" y=\"-349.8\" font-family=\"Times,serif\" font-size=\"14.00\" fill=\"#000000\">YPSY2A01w1 &lt;= 2.5</text>\n<text text-anchor=\"middle\" x=\"540\" y=\"-334.8\" font-family=\"Times,serif\" font-size=\"14.00\" fill=\"#000000\">samples = 291</text>\n<text text-anchor=\"middle\" x=\"540\" y=\"-319.8\" font-family=\"Times,serif\" font-size=\"14.00\" fill=\"#000000\">value = [203, 88]</text>\n<text text-anchor=\"middle\" x=\"540\" y=\"-304.8\" font-family=\"Times,serif\" font-size=\"14.00\" fill=\"#000000\">class = 불만</text>\n</g>\n<!-- 0&#45;&gt;1 -->\n<g id=\"edge1\" class=\"edge\">\n<title>0&#45;&gt;1</title>\n<path fill=\"none\" stroke=\"#000000\" d=\"M630.796,-400.9465C618.5584,-391.519 605.1564,-381.1946 592.4962,-371.4415\"/>\n<polygon fill=\"#000000\" stroke=\"#000000\" points=\"594.3612,-368.4601 584.3034,-365.13 590.0893,-374.0055 594.3612,-368.4601\"/>\n<text text-anchor=\"middle\" x=\"587.5191\" y=\"-386.2223\" font-family=\"Times,serif\" font-size=\"14.00\" fill=\"#000000\">True</text>\n</g>\n<!-- 14 -->\n<g id=\"node15\" class=\"node\">\n<title>14</title>\n<polygon fill=\"#4da7e8\" stroke=\"#000000\" points=\"1060,-365 912,-365 912,-297 1060,-297 1060,-365\"/>\n<text text-anchor=\"middle\" x=\"986\" y=\"-349.8\" font-family=\"Times,serif\" font-size=\"14.00\" fill=\"#000000\">YPSY2A01w1 &lt;= 2.5</text>\n<text text-anchor=\"middle\" x=\"986\" y=\"-334.8\" font-family=\"Times,serif\" font-size=\"14.00\" fill=\"#000000\">samples = 1651</text>\n<text text-anchor=\"middle\" x=\"986\" y=\"-319.8\" font-family=\"Times,serif\" font-size=\"14.00\" fill=\"#000000\">value = [153, 1498]</text>\n<text text-anchor=\"middle\" x=\"986\" y=\"-304.8\" font-family=\"Times,serif\" font-size=\"14.00\" fill=\"#000000\">class = 만족</text>\n</g>\n<!-- 0&#45;&gt;14 -->\n<g id=\"edge14\" class=\"edge\">\n<title>0&#45;&gt;14</title>\n<path fill=\"none\" stroke=\"#000000\" d=\"M749.0971,-410.2215C795.1519,-394.8206 854.4738,-374.983 902.2338,-359.0118\"/>\n<polygon fill=\"#000000\" stroke=\"#000000\" points=\"903.5584,-362.2595 911.9322,-355.7687 901.3384,-355.6208 903.5584,-362.2595\"/>\n<text text-anchor=\"middle\" x=\"900.7734\" y=\"-374.4401\" font-family=\"Times,serif\" font-size=\"14.00\" fill=\"#000000\">False</text>\n</g>\n<!-- 2 -->\n<g id=\"node3\" class=\"node\">\n<title>2</title>\n<polygon fill=\"#e89152\" stroke=\"#000000\" points=\"381,-261 233,-261 233,-193 381,-193 381,-261\"/>\n<text text-anchor=\"middle\" x=\"307\" y=\"-245.8\" font-family=\"Times,serif\" font-size=\"14.00\" fill=\"#000000\">YPSY2A02w1 &lt;= 3.5</text>\n<text text-anchor=\"middle\" x=\"307\" y=\"-230.8\" font-family=\"Times,serif\" font-size=\"14.00\" fill=\"#000000\">samples = 132</text>\n<text text-anchor=\"middle\" x=\"307\" y=\"-215.8\" font-family=\"Times,serif\" font-size=\"14.00\" fill=\"#000000\">value = [117, 15]</text>\n<text text-anchor=\"middle\" x=\"307\" y=\"-200.8\" font-family=\"Times,serif\" font-size=\"14.00\" fill=\"#000000\">class = 불만</text>\n</g>\n<!-- 1&#45;&gt;2 -->\n<g id=\"edge2\" class=\"edge\">\n<title>1&#45;&gt;2</title>\n<path fill=\"none\" stroke=\"#000000\" d=\"M465.9572,-297.9509C441.9711,-287.2446 415.2032,-275.2967 390.5742,-264.3035\"/>\n<polygon fill=\"#000000\" stroke=\"#000000\" points=\"391.8082,-261.0215 381.2499,-260.1416 388.955,-267.4137 391.8082,-261.0215\"/>\n</g>\n<!-- 7 -->\n<g id=\"node8\" class=\"node\">\n<title>7</title>\n<polygon fill=\"#fbece1\" stroke=\"#000000\" points=\"614,-261 466,-261 466,-193 614,-193 614,-261\"/>\n<text text-anchor=\"middle\" x=\"540\" y=\"-245.8\" font-family=\"Times,serif\" font-size=\"14.00\" fill=\"#000000\">YPSY2A01w1 &lt;= 3.5</text>\n<text text-anchor=\"middle\" x=\"540\" y=\"-230.8\" font-family=\"Times,serif\" font-size=\"14.00\" fill=\"#000000\">samples = 159</text>\n<text text-anchor=\"middle\" x=\"540\" y=\"-215.8\" font-family=\"Times,serif\" font-size=\"14.00\" fill=\"#000000\">value = [86, 73]</text>\n<text text-anchor=\"middle\" x=\"540\" y=\"-200.8\" font-family=\"Times,serif\" font-size=\"14.00\" fill=\"#000000\">class = 불만</text>\n</g>\n<!-- 1&#45;&gt;7 -->\n<g id=\"edge7\" class=\"edge\">\n<title>1&#45;&gt;7</title>\n<path fill=\"none\" stroke=\"#000000\" d=\"M540,-296.9465C540,-288.776 540,-279.9318 540,-271.3697\"/>\n<polygon fill=\"#000000\" stroke=\"#000000\" points=\"543.5001,-271.13 540,-261.13 536.5001,-271.13 543.5001,-271.13\"/>\n</g>\n<!-- 3 -->\n<g id=\"node4\" class=\"node\">\n<title>3</title>\n<polygon fill=\"#e89051\" stroke=\"#000000\" points=\"241,-157 93,-157 93,-89 241,-89 241,-157\"/>\n<text text-anchor=\"middle\" x=\"167\" y=\"-141.8\" font-family=\"Times,serif\" font-size=\"14.00\" fill=\"#000000\">YPSY2A02w1 &lt;= 2.5</text>\n<text text-anchor=\"middle\" x=\"167\" y=\"-126.8\" font-family=\"Times,serif\" font-size=\"14.00\" fill=\"#000000\">samples = 131</text>\n<text text-anchor=\"middle\" x=\"167\" y=\"-111.8\" font-family=\"Times,serif\" font-size=\"14.00\" fill=\"#000000\">value = [117, 14]</text>\n<text text-anchor=\"middle\" x=\"167\" y=\"-96.8\" font-family=\"Times,serif\" font-size=\"14.00\" fill=\"#000000\">class = 불만</text>\n</g>\n<!-- 2&#45;&gt;3 -->\n<g id=\"edge3\" class=\"edge\">\n<title>2&#45;&gt;3</title>\n<path fill=\"none\" stroke=\"#000000\" d=\"M261.1588,-192.9465C248.3471,-183.4293 234.3048,-172.9978 221.0656,-163.163\"/>\n<polygon fill=\"#000000\" stroke=\"#000000\" points=\"223.0588,-160.2837 212.9442,-157.13 218.8845,-165.9029 223.0588,-160.2837\"/>\n</g>\n<!-- 6 -->\n<g id=\"node7\" class=\"node\">\n<title>6</title>\n<polygon fill=\"#399de5\" stroke=\"#000000\" points=\"354.5,-149.5 259.5,-149.5 259.5,-96.5 354.5,-96.5 354.5,-149.5\"/>\n<text text-anchor=\"middle\" x=\"307\" y=\"-134.3\" font-family=\"Times,serif\" font-size=\"14.00\" fill=\"#000000\">samples = 1</text>\n<text text-anchor=\"middle\" x=\"307\" y=\"-119.3\" font-family=\"Times,serif\" font-size=\"14.00\" fill=\"#000000\">value = [0, 1]</text>\n<text text-anchor=\"middle\" x=\"307\" y=\"-104.3\" font-family=\"Times,serif\" font-size=\"14.00\" fill=\"#000000\">class = 만족</text>\n</g>\n<!-- 2&#45;&gt;6 -->\n<g id=\"edge6\" class=\"edge\">\n<title>2&#45;&gt;6</title>\n<path fill=\"none\" stroke=\"#000000\" d=\"M307,-192.9465C307,-182.2621 307,-170.4254 307,-159.5742\"/>\n<polygon fill=\"#000000\" stroke=\"#000000\" points=\"310.5001,-159.5421 307,-149.5422 303.5001,-159.5422 310.5001,-159.5421\"/>\n</g>\n<!-- 4 -->\n<g id=\"node5\" class=\"node\">\n<title>4</title>\n<polygon fill=\"#e78c4a\" stroke=\"#000000\" points=\"110,-53 0,-53 0,0 110,0 110,-53\"/>\n<text text-anchor=\"middle\" x=\"55\" y=\"-37.8\" font-family=\"Times,serif\" font-size=\"14.00\" fill=\"#000000\">samples = 111</text>\n<text text-anchor=\"middle\" x=\"55\" y=\"-22.8\" font-family=\"Times,serif\" font-size=\"14.00\" fill=\"#000000\">value = [102, 9]</text>\n<text text-anchor=\"middle\" x=\"55\" y=\"-7.8\" font-family=\"Times,serif\" font-size=\"14.00\" fill=\"#000000\">class = 불만</text>\n</g>\n<!-- 3&#45;&gt;4 -->\n<g id=\"edge4\" class=\"edge\">\n<title>3&#45;&gt;4</title>\n<path fill=\"none\" stroke=\"#000000\" d=\"M127.513,-88.9777C116.5664,-79.546 104.6953,-69.3178 93.7889,-59.9208\"/>\n<polygon fill=\"#000000\" stroke=\"#000000\" points=\"95.9053,-57.1244 86.0449,-53.2485 91.3361,-62.4274 95.9053,-57.1244\"/>\n</g>\n<!-- 5 -->\n<g id=\"node6\" class=\"node\">\n<title>5</title>\n<polygon fill=\"#eeab7b\" stroke=\"#000000\" points=\"230,-53 128,-53 128,0 230,0 230,-53\"/>\n<text text-anchor=\"middle\" x=\"179\" y=\"-37.8\" font-family=\"Times,serif\" font-size=\"14.00\" fill=\"#000000\">samples = 20</text>\n<text text-anchor=\"middle\" x=\"179\" y=\"-22.8\" font-family=\"Times,serif\" font-size=\"14.00\" fill=\"#000000\">value = [15, 5]</text>\n<text text-anchor=\"middle\" x=\"179\" y=\"-7.8\" font-family=\"Times,serif\" font-size=\"14.00\" fill=\"#000000\">class = 불만</text>\n</g>\n<!-- 3&#45;&gt;5 -->\n<g id=\"edge5\" class=\"edge\">\n<title>3&#45;&gt;5</title>\n<path fill=\"none\" stroke=\"#000000\" d=\"M171.2308,-88.9777C172.267,-80.6449 173.3805,-71.6903 174.4317,-63.2364\"/>\n<polygon fill=\"#000000\" stroke=\"#000000\" points=\"177.9129,-63.604 175.6738,-53.2485 170.9664,-62.7401 177.9129,-63.604\"/>\n</g>\n<!-- 8 -->\n<g id=\"node9\" class=\"node\">\n<title>8</title>\n<polygon fill=\"#f8dcc8\" stroke=\"#000000\" points=\"515.5,-157 372.5,-157 372.5,-89 515.5,-89 515.5,-157\"/>\n<text text-anchor=\"middle\" x=\"444\" y=\"-141.8\" font-family=\"Times,serif\" font-size=\"14.00\" fill=\"#000000\">YINT2B11w1 &lt;= 1.5</text>\n<text text-anchor=\"middle\" x=\"444\" y=\"-126.8\" font-family=\"Times,serif\" font-size=\"14.00\" fill=\"#000000\">samples = 143</text>\n<text text-anchor=\"middle\" x=\"444\" y=\"-111.8\" font-family=\"Times,serif\" font-size=\"14.00\" fill=\"#000000\">value = [83, 60]</text>\n<text text-anchor=\"middle\" x=\"444\" y=\"-96.8\" font-family=\"Times,serif\" font-size=\"14.00\" fill=\"#000000\">class = 불만</text>\n</g>\n<!-- 7&#45;&gt;8 -->\n<g id=\"edge8\" class=\"edge\">\n<title>7&#45;&gt;8</title>\n<path fill=\"none\" stroke=\"#000000\" d=\"M508.566,-192.9465C500.1953,-183.8782 491.0584,-173.9799 482.3617,-164.5585\"/>\n<polygon fill=\"#000000\" stroke=\"#000000\" points=\"484.8593,-162.1041 475.5046,-157.13 479.7156,-166.852 484.8593,-162.1041\"/>\n</g>\n<!-- 11 -->\n<g id=\"node12\" class=\"node\">\n<title>11</title>\n<polygon fill=\"#67b4eb\" stroke=\"#000000\" points=\"680.5,-157 533.5,-157 533.5,-89 680.5,-89 680.5,-157\"/>\n<text text-anchor=\"middle\" x=\"607\" y=\"-141.8\" font-family=\"Times,serif\" font-size=\"14.00\" fill=\"#000000\">YPSY4B06w1 &lt;= 2.5</text>\n<text text-anchor=\"middle\" x=\"607\" y=\"-126.8\" font-family=\"Times,serif\" font-size=\"14.00\" fill=\"#000000\">samples = 16</text>\n<text text-anchor=\"middle\" x=\"607\" y=\"-111.8\" font-family=\"Times,serif\" font-size=\"14.00\" fill=\"#000000\">value = [3, 13]</text>\n<text text-anchor=\"middle\" x=\"607\" y=\"-96.8\" font-family=\"Times,serif\" font-size=\"14.00\" fill=\"#000000\">class = 만족</text>\n</g>\n<!-- 7&#45;&gt;11 -->\n<g id=\"edge11\" class=\"edge\">\n<title>7&#45;&gt;11</title>\n<path fill=\"none\" stroke=\"#000000\" d=\"M561.9383,-192.9465C567.549,-184.2373 573.6529,-174.7626 579.5042,-165.6801\"/>\n<polygon fill=\"#000000\" stroke=\"#000000\" points=\"582.5389,-167.4321 585.0124,-157.13 576.6543,-163.641 582.5389,-167.4321\"/>\n</g>\n<!-- 9 -->\n<g id=\"node10\" class=\"node\">\n<title>9</title>\n<polygon fill=\"#cfe7f9\" stroke=\"#000000\" points=\"371,-53 261,-53 261,0 371,0 371,-53\"/>\n<text text-anchor=\"middle\" x=\"316\" y=\"-37.8\" font-family=\"Times,serif\" font-size=\"14.00\" fill=\"#000000\">samples = 44</text>\n<text text-anchor=\"middle\" x=\"316\" y=\"-22.8\" font-family=\"Times,serif\" font-size=\"14.00\" fill=\"#000000\">value = [19, 25]</text>\n<text text-anchor=\"middle\" x=\"316\" y=\"-7.8\" font-family=\"Times,serif\" font-size=\"14.00\" fill=\"#000000\">class = 만족</text>\n</g>\n<!-- 8&#45;&gt;9 -->\n<g id=\"edge9\" class=\"edge\">\n<title>8&#45;&gt;9</title>\n<path fill=\"none\" stroke=\"#000000\" d=\"M398.872,-88.9777C386.1187,-79.3629 372.2673,-68.9203 359.6053,-59.3743\"/>\n<polygon fill=\"#000000\" stroke=\"#000000\" points=\"361.5719,-56.4737 351.4798,-53.2485 357.3579,-62.0632 361.5719,-56.4737\"/>\n</g>\n<!-- 10 -->\n<g id=\"node11\" class=\"node\">\n<title>10</title>\n<polygon fill=\"#f3c6a5\" stroke=\"#000000\" points=\"499,-53 389,-53 389,0 499,0 499,-53\"/>\n<text text-anchor=\"middle\" x=\"444\" y=\"-37.8\" font-family=\"Times,serif\" font-size=\"14.00\" fill=\"#000000\">samples = 99</text>\n<text text-anchor=\"middle\" x=\"444\" y=\"-22.8\" font-family=\"Times,serif\" font-size=\"14.00\" fill=\"#000000\">value = [64, 35]</text>\n<text text-anchor=\"middle\" x=\"444\" y=\"-7.8\" font-family=\"Times,serif\" font-size=\"14.00\" fill=\"#000000\">class = 불만</text>\n</g>\n<!-- 8&#45;&gt;10 -->\n<g id=\"edge10\" class=\"edge\">\n<title>8&#45;&gt;10</title>\n<path fill=\"none\" stroke=\"#000000\" d=\"M444,-88.9777C444,-80.7364 444,-71.887 444,-63.5153\"/>\n<polygon fill=\"#000000\" stroke=\"#000000\" points=\"447.5001,-63.2484 444,-53.2485 440.5001,-63.2485 447.5001,-63.2484\"/>\n</g>\n<!-- 12 -->\n<g id=\"node13\" class=\"node\">\n<title>12</title>\n<polygon fill=\"#48a5e7\" stroke=\"#000000\" points=\"619,-53 517,-53 517,0 619,0 619,-53\"/>\n<text text-anchor=\"middle\" x=\"568\" y=\"-37.8\" font-family=\"Times,serif\" font-size=\"14.00\" fill=\"#000000\">samples = 14</text>\n<text text-anchor=\"middle\" x=\"568\" y=\"-22.8\" font-family=\"Times,serif\" font-size=\"14.00\" fill=\"#000000\">value = [1, 13]</text>\n<text text-anchor=\"middle\" x=\"568\" y=\"-7.8\" font-family=\"Times,serif\" font-size=\"14.00\" fill=\"#000000\">class = 만족</text>\n</g>\n<!-- 11&#45;&gt;12 -->\n<g id=\"edge12\" class=\"edge\">\n<title>11&#45;&gt;12</title>\n<path fill=\"none\" stroke=\"#000000\" d=\"M593.2501,-88.9777C589.8084,-80.4617 586.1042,-71.2963 582.6219,-62.6798\"/>\n<polygon fill=\"#000000\" stroke=\"#000000\" points=\"585.8024,-61.2085 578.8103,-53.2485 579.3123,-63.8314 585.8024,-61.2085\"/>\n</g>\n<!-- 13 -->\n<g id=\"node14\" class=\"node\">\n<title>13</title>\n<polygon fill=\"#e58139\" stroke=\"#000000\" points=\"732.5,-53 637.5,-53 637.5,0 732.5,0 732.5,-53\"/>\n<text text-anchor=\"middle\" x=\"685\" y=\"-37.8\" font-family=\"Times,serif\" font-size=\"14.00\" fill=\"#000000\">samples = 2</text>\n<text text-anchor=\"middle\" x=\"685\" y=\"-22.8\" font-family=\"Times,serif\" font-size=\"14.00\" fill=\"#000000\">value = [2, 0]</text>\n<text text-anchor=\"middle\" x=\"685\" y=\"-7.8\" font-family=\"Times,serif\" font-size=\"14.00\" fill=\"#000000\">class = 불만</text>\n</g>\n<!-- 11&#45;&gt;13 -->\n<g id=\"edge13\" class=\"edge\">\n<title>11&#45;&gt;13</title>\n<path fill=\"none\" stroke=\"#000000\" d=\"M634.4999,-88.9777C641.7533,-80.0039 649.5897,-70.3089 656.8756,-61.295\"/>\n<polygon fill=\"#000000\" stroke=\"#000000\" points=\"659.8153,-63.2258 663.3795,-53.2485 654.3712,-58.8255 659.8153,-63.2258\"/>\n</g>\n<!-- 15 -->\n<g id=\"node16\" class=\"node\">\n<title>15</title>\n<polygon fill=\"#ffffff\" stroke=\"#000000\" points=\"1061.5,-261 910.5,-261 910.5,-193 1061.5,-193 1061.5,-261\"/>\n<text text-anchor=\"middle\" x=\"986\" y=\"-245.8\" font-family=\"Times,serif\" font-size=\"14.00\" fill=\"#000000\">YFAM2C02w1 &lt;= 3.5</text>\n<text text-anchor=\"middle\" x=\"986\" y=\"-230.8\" font-family=\"Times,serif\" font-size=\"14.00\" fill=\"#000000\">samples = 66</text>\n<text text-anchor=\"middle\" x=\"986\" y=\"-215.8\" font-family=\"Times,serif\" font-size=\"14.00\" fill=\"#000000\">value = [33, 33]</text>\n<text text-anchor=\"middle\" x=\"986\" y=\"-200.8\" font-family=\"Times,serif\" font-size=\"14.00\" fill=\"#000000\">class = 불만</text>\n</g>\n<!-- 14&#45;&gt;15 -->\n<g id=\"edge15\" class=\"edge\">\n<title>14&#45;&gt;15</title>\n<path fill=\"none\" stroke=\"#000000\" d=\"M986,-296.9465C986,-288.776 986,-279.9318 986,-271.3697\"/>\n<polygon fill=\"#000000\" stroke=\"#000000\" points=\"989.5001,-271.13 986,-261.13 982.5001,-271.13 989.5001,-271.13\"/>\n</g>\n<!-- 22 -->\n<g id=\"node23\" class=\"node\">\n<title>22</title>\n<polygon fill=\"#49a5e7\" stroke=\"#000000\" points=\"1394,-261 1246,-261 1246,-193 1394,-193 1394,-261\"/>\n<text text-anchor=\"middle\" x=\"1320\" y=\"-245.8\" font-family=\"Times,serif\" font-size=\"14.00\" fill=\"#000000\">YPSY3A10w1 &lt;= 2.5</text>\n<text text-anchor=\"middle\" x=\"1320\" y=\"-230.8\" font-family=\"Times,serif\" font-size=\"14.00\" fill=\"#000000\">samples = 1585</text>\n<text text-anchor=\"middle\" x=\"1320\" y=\"-215.8\" font-family=\"Times,serif\" font-size=\"14.00\" fill=\"#000000\">value = [120, 1465]</text>\n<text text-anchor=\"middle\" x=\"1320\" y=\"-200.8\" font-family=\"Times,serif\" font-size=\"14.00\" fill=\"#000000\">class = 만족</text>\n</g>\n<!-- 14&#45;&gt;22 -->\n<g id=\"edge22\" class=\"edge\">\n<title>14&#45;&gt;22</title>\n<path fill=\"none\" stroke=\"#000000\" d=\"M1060.1254,-307.919C1112.2492,-291.6889 1182.0724,-269.9475 1236.2175,-253.088\"/>\n<polygon fill=\"#000000\" stroke=\"#000000\" points=\"1237.2863,-256.421 1245.7936,-250.1062 1235.2052,-249.7375 1237.2863,-256.421\"/>\n</g>\n<!-- 16 -->\n<g id=\"node17\" class=\"node\">\n<title>16</title>\n<polygon fill=\"#f6d2b9\" stroke=\"#000000\" points=\"977.5,-157 826.5,-157 826.5,-89 977.5,-89 977.5,-157\"/>\n<text text-anchor=\"middle\" x=\"902\" y=\"-141.8\" font-family=\"Times,serif\" font-size=\"14.00\" fill=\"#000000\">YEDU1A00w1 &lt;= 3.5</text>\n<text text-anchor=\"middle\" x=\"902\" y=\"-126.8\" font-family=\"Times,serif\" font-size=\"14.00\" fill=\"#000000\">samples = 51</text>\n<text text-anchor=\"middle\" x=\"902\" y=\"-111.8\" font-family=\"Times,serif\" font-size=\"14.00\" fill=\"#000000\">value = [31, 20]</text>\n<text text-anchor=\"middle\" x=\"902\" y=\"-96.8\" font-family=\"Times,serif\" font-size=\"14.00\" fill=\"#000000\">class = 불만</text>\n</g>\n<!-- 15&#45;&gt;16 -->\n<g id=\"edge16\" class=\"edge\">\n<title>15&#45;&gt;16</title>\n<path fill=\"none\" stroke=\"#000000\" d=\"M958.4953,-192.9465C951.3159,-184.0578 943.4924,-174.3716 936.019,-165.1188\"/>\n<polygon fill=\"#000000\" stroke=\"#000000\" points=\"938.5727,-162.7102 929.5665,-157.13 933.1271,-167.1086 938.5727,-162.7102\"/>\n</g>\n<!-- 19 -->\n<g id=\"node20\" class=\"node\">\n<title>19</title>\n<polygon fill=\"#57ace9\" stroke=\"#000000\" points=\"1146.5,-157 995.5,-157 995.5,-89 1146.5,-89 1146.5,-157\"/>\n<text text-anchor=\"middle\" x=\"1071\" y=\"-141.8\" font-family=\"Times,serif\" font-size=\"14.00\" fill=\"#000000\">YEDU1A00w1 &lt;= 3.5</text>\n<text text-anchor=\"middle\" x=\"1071\" y=\"-126.8\" font-family=\"Times,serif\" font-size=\"14.00\" fill=\"#000000\">samples = 15</text>\n<text text-anchor=\"middle\" x=\"1071\" y=\"-111.8\" font-family=\"Times,serif\" font-size=\"14.00\" fill=\"#000000\">value = [2, 13]</text>\n<text text-anchor=\"middle\" x=\"1071\" y=\"-96.8\" font-family=\"Times,serif\" font-size=\"14.00\" fill=\"#000000\">class = 만족</text>\n</g>\n<!-- 15&#45;&gt;19 -->\n<g id=\"edge19\" class=\"edge\">\n<title>15&#45;&gt;19</title>\n<path fill=\"none\" stroke=\"#000000\" d=\"M1013.8322,-192.9465C1021.097,-184.0578 1029.0136,-174.3716 1036.576,-165.1188\"/>\n<polygon fill=\"#000000\" stroke=\"#000000\" points=\"1039.487,-167.0878 1043.1053,-157.13 1034.0669,-162.658 1039.487,-167.0878\"/>\n</g>\n<!-- 17 -->\n<g id=\"node18\" class=\"node\">\n<title>17</title>\n<polygon fill=\"#eb9d65\" stroke=\"#000000\" points=\"853,-53 751,-53 751,0 853,0 853,-53\"/>\n<text text-anchor=\"middle\" x=\"802\" y=\"-37.8\" font-family=\"Times,serif\" font-size=\"14.00\" fill=\"#000000\">samples = 22</text>\n<text text-anchor=\"middle\" x=\"802\" y=\"-22.8\" font-family=\"Times,serif\" font-size=\"14.00\" fill=\"#000000\">value = [18, 4]</text>\n<text text-anchor=\"middle\" x=\"802\" y=\"-7.8\" font-family=\"Times,serif\" font-size=\"14.00\" fill=\"#000000\">class = 불만</text>\n</g>\n<!-- 16&#45;&gt;17 -->\n<g id=\"edge17\" class=\"edge\">\n<title>16&#45;&gt;17</title>\n<path fill=\"none\" stroke=\"#000000\" d=\"M866.7437,-88.9777C857.0649,-79.6376 846.5765,-69.5163 836.9168,-60.1947\"/>\n<polygon fill=\"#000000\" stroke=\"#000000\" points=\"839.3449,-57.674 829.7186,-53.2485 834.4841,-62.7111 839.3449,-57.674\"/>\n</g>\n<!-- 18 -->\n<g id=\"node19\" class=\"node\">\n<title>18</title>\n<polygon fill=\"#daedfa\" stroke=\"#000000\" points=\"981,-53 871,-53 871,0 981,0 981,-53\"/>\n<text text-anchor=\"middle\" x=\"926\" y=\"-37.8\" font-family=\"Times,serif\" font-size=\"14.00\" fill=\"#000000\">samples = 29</text>\n<text text-anchor=\"middle\" x=\"926\" y=\"-22.8\" font-family=\"Times,serif\" font-size=\"14.00\" fill=\"#000000\">value = [13, 16]</text>\n<text text-anchor=\"middle\" x=\"926\" y=\"-7.8\" font-family=\"Times,serif\" font-size=\"14.00\" fill=\"#000000\">class = 만족</text>\n</g>\n<!-- 16&#45;&gt;18 -->\n<g id=\"edge18\" class=\"edge\">\n<title>16&#45;&gt;18</title>\n<path fill=\"none\" stroke=\"#000000\" d=\"M910.4615,-88.9777C912.5567,-80.5533 914.8099,-71.4934 916.9327,-62.9579\"/>\n<polygon fill=\"#000000\" stroke=\"#000000\" points=\"920.3305,-63.7976 919.3475,-53.2485 913.5374,-62.1081 920.3305,-63.7976\"/>\n</g>\n<!-- 20 -->\n<g id=\"node21\" class=\"node\">\n<title>20</title>\n<polygon fill=\"#9ccef2\" stroke=\"#000000\" points=\"1094.5,-53 999.5,-53 999.5,0 1094.5,0 1094.5,-53\"/>\n<text text-anchor=\"middle\" x=\"1047\" y=\"-37.8\" font-family=\"Times,serif\" font-size=\"14.00\" fill=\"#000000\">samples = 6</text>\n<text text-anchor=\"middle\" x=\"1047\" y=\"-22.8\" font-family=\"Times,serif\" font-size=\"14.00\" fill=\"#000000\">value = [2, 4]</text>\n<text text-anchor=\"middle\" x=\"1047\" y=\"-7.8\" font-family=\"Times,serif\" font-size=\"14.00\" fill=\"#000000\">class = 만족</text>\n</g>\n<!-- 19&#45;&gt;20 -->\n<g id=\"edge20\" class=\"edge\">\n<title>19&#45;&gt;20</title>\n<path fill=\"none\" stroke=\"#000000\" d=\"M1062.5385,-88.9777C1060.4433,-80.5533 1058.1901,-71.4934 1056.0673,-62.9579\"/>\n<polygon fill=\"#000000\" stroke=\"#000000\" points=\"1059.4626,-62.1081 1053.6525,-53.2485 1052.6695,-63.7976 1059.4626,-62.1081\"/>\n</g>\n<!-- 21 -->\n<g id=\"node22\" class=\"node\">\n<title>21</title>\n<polygon fill=\"#399de5\" stroke=\"#000000\" points=\"1207.5,-53 1112.5,-53 1112.5,0 1207.5,0 1207.5,-53\"/>\n<text text-anchor=\"middle\" x=\"1160\" y=\"-37.8\" font-family=\"Times,serif\" font-size=\"14.00\" fill=\"#000000\">samples = 9</text>\n<text text-anchor=\"middle\" x=\"1160\" y=\"-22.8\" font-family=\"Times,serif\" font-size=\"14.00\" fill=\"#000000\">value = [0, 9]</text>\n<text text-anchor=\"middle\" x=\"1160\" y=\"-7.8\" font-family=\"Times,serif\" font-size=\"14.00\" fill=\"#000000\">class = 만족</text>\n</g>\n<!-- 19&#45;&gt;21 -->\n<g id=\"edge21\" class=\"edge\">\n<title>19&#45;&gt;21</title>\n<path fill=\"none\" stroke=\"#000000\" d=\"M1102.3781,-88.9777C1110.8234,-79.8207 1119.9611,-69.9129 1128.4175,-60.744\"/>\n<polygon fill=\"#000000\" stroke=\"#000000\" points=\"1131.1236,-62.9723 1135.3304,-53.2485 1125.9779,-58.2266 1131.1236,-62.9723\"/>\n</g>\n<!-- 23 -->\n<g id=\"node24\" class=\"node\">\n<title>23</title>\n<polygon fill=\"#89c4ef\" stroke=\"#000000\" points=\"1393.5,-157 1246.5,-157 1246.5,-89 1393.5,-89 1393.5,-157\"/>\n<text text-anchor=\"middle\" x=\"1320\" y=\"-141.8\" font-family=\"Times,serif\" font-size=\"14.00\" fill=\"#000000\">YPSY4B06w1 &lt;= 3.5</text>\n<text text-anchor=\"middle\" x=\"1320\" y=\"-126.8\" font-family=\"Times,serif\" font-size=\"14.00\" fill=\"#000000\">samples = 115</text>\n<text text-anchor=\"middle\" x=\"1320\" y=\"-111.8\" font-family=\"Times,serif\" font-size=\"14.00\" fill=\"#000000\">value = [33, 82]</text>\n<text text-anchor=\"middle\" x=\"1320\" y=\"-96.8\" font-family=\"Times,serif\" font-size=\"14.00\" fill=\"#000000\">class = 만족</text>\n</g>\n<!-- 22&#45;&gt;23 -->\n<g id=\"edge23\" class=\"edge\">\n<title>22&#45;&gt;23</title>\n<path fill=\"none\" stroke=\"#000000\" d=\"M1320,-192.9465C1320,-184.776 1320,-175.9318 1320,-167.3697\"/>\n<polygon fill=\"#000000\" stroke=\"#000000\" points=\"1323.5001,-167.13 1320,-157.13 1316.5001,-167.13 1323.5001,-167.13\"/>\n</g>\n<!-- 26 -->\n<g id=\"node27\" class=\"node\">\n<title>26</title>\n<polygon fill=\"#45a3e7\" stroke=\"#000000\" points=\"1600,-157 1452,-157 1452,-89 1600,-89 1600,-157\"/>\n<text text-anchor=\"middle\" x=\"1526\" y=\"-141.8\" font-family=\"Times,serif\" font-size=\"14.00\" fill=\"#000000\">YPSY3A01w1 &lt;= 3.5</text>\n<text text-anchor=\"middle\" x=\"1526\" y=\"-126.8\" font-family=\"Times,serif\" font-size=\"14.00\" fill=\"#000000\">samples = 1470</text>\n<text text-anchor=\"middle\" x=\"1526\" y=\"-111.8\" font-family=\"Times,serif\" font-size=\"14.00\" fill=\"#000000\">value = [87, 1383]</text>\n<text text-anchor=\"middle\" x=\"1526\" y=\"-96.8\" font-family=\"Times,serif\" font-size=\"14.00\" fill=\"#000000\">class = 만족</text>\n</g>\n<!-- 22&#45;&gt;26 -->\n<g id=\"edge26\" class=\"edge\">\n<title>22&#45;&gt;26</title>\n<path fill=\"none\" stroke=\"#000000\" d=\"M1387.4521,-192.9465C1407.2817,-182.9354 1429.1149,-171.9129 1449.4688,-161.6371\"/>\n<polygon fill=\"#000000\" stroke=\"#000000\" points=\"1451.0469,-164.7612 1458.3964,-157.13 1447.8921,-158.5124 1451.0469,-164.7612\"/>\n</g>\n<!-- 24 -->\n<g id=\"node25\" class=\"node\">\n<title>24</title>\n<polygon fill=\"#82c1ef\" stroke=\"#000000\" points=\"1336,-53 1226,-53 1226,0 1336,0 1336,-53\"/>\n<text text-anchor=\"middle\" x=\"1281\" y=\"-37.8\" font-family=\"Times,serif\" font-size=\"14.00\" fill=\"#000000\">samples = 108</text>\n<text text-anchor=\"middle\" x=\"1281\" y=\"-22.8\" font-family=\"Times,serif\" font-size=\"14.00\" fill=\"#000000\">value = [29, 79]</text>\n<text text-anchor=\"middle\" x=\"1281\" y=\"-7.8\" font-family=\"Times,serif\" font-size=\"14.00\" fill=\"#000000\">class = 만족</text>\n</g>\n<!-- 23&#45;&gt;24 -->\n<g id=\"edge24\" class=\"edge\">\n<title>23&#45;&gt;24</title>\n<path fill=\"none\" stroke=\"#000000\" d=\"M1306.2501,-88.9777C1302.8084,-80.4617 1299.1042,-71.2963 1295.6219,-62.6798\"/>\n<polygon fill=\"#000000\" stroke=\"#000000\" points=\"1298.8024,-61.2085 1291.8103,-53.2485 1292.3123,-63.8314 1298.8024,-61.2085\"/>\n</g>\n<!-- 25 -->\n<g id=\"node26\" class=\"node\">\n<title>25</title>\n<polygon fill=\"#f8e0ce\" stroke=\"#000000\" points=\"1449.5,-53 1354.5,-53 1354.5,0 1449.5,0 1449.5,-53\"/>\n<text text-anchor=\"middle\" x=\"1402\" y=\"-37.8\" font-family=\"Times,serif\" font-size=\"14.00\" fill=\"#000000\">samples = 7</text>\n<text text-anchor=\"middle\" x=\"1402\" y=\"-22.8\" font-family=\"Times,serif\" font-size=\"14.00\" fill=\"#000000\">value = [4, 3]</text>\n<text text-anchor=\"middle\" x=\"1402\" y=\"-7.8\" font-family=\"Times,serif\" font-size=\"14.00\" fill=\"#000000\">class = 불만</text>\n</g>\n<!-- 23&#45;&gt;25 -->\n<g id=\"edge25\" class=\"edge\">\n<title>23&#45;&gt;25</title>\n<path fill=\"none\" stroke=\"#000000\" d=\"M1348.9101,-88.9777C1356.6134,-79.9123 1364.9419,-70.111 1372.6676,-61.0192\"/>\n<polygon fill=\"#000000\" stroke=\"#000000\" points=\"1375.4625,-63.1352 1379.2707,-53.2485 1370.1282,-58.6025 1375.4625,-63.1352\"/>\n</g>\n<!-- 27 -->\n<g id=\"node28\" class=\"node\">\n<title>27</title>\n<polygon fill=\"#4ca7e8\" stroke=\"#000000\" points=\"1584.5,-53 1467.5,-53 1467.5,0 1584.5,0 1584.5,-53\"/>\n<text text-anchor=\"middle\" x=\"1526\" y=\"-37.8\" font-family=\"Times,serif\" font-size=\"14.00\" fill=\"#000000\">samples = 899</text>\n<text text-anchor=\"middle\" x=\"1526\" y=\"-22.8\" font-family=\"Times,serif\" font-size=\"14.00\" fill=\"#000000\">value = [80, 819]</text>\n<text text-anchor=\"middle\" x=\"1526\" y=\"-7.8\" font-family=\"Times,serif\" font-size=\"14.00\" fill=\"#000000\">class = 만족</text>\n</g>\n<!-- 26&#45;&gt;27 -->\n<g id=\"edge27\" class=\"edge\">\n<title>26&#45;&gt;27</title>\n<path fill=\"none\" stroke=\"#000000\" d=\"M1526,-88.9777C1526,-80.7364 1526,-71.887 1526,-63.5153\"/>\n<polygon fill=\"#000000\" stroke=\"#000000\" points=\"1529.5001,-63.2484 1526,-53.2485 1522.5001,-63.2485 1529.5001,-63.2484\"/>\n</g>\n<!-- 28 -->\n<g id=\"node29\" class=\"node\">\n<title>28</title>\n<polygon fill=\"#3b9ee5\" stroke=\"#000000\" points=\"1713,-53 1603,-53 1603,0 1713,0 1713,-53\"/>\n<text text-anchor=\"middle\" x=\"1658\" y=\"-37.8\" font-family=\"Times,serif\" font-size=\"14.00\" fill=\"#000000\">samples = 571</text>\n<text text-anchor=\"middle\" x=\"1658\" y=\"-22.8\" font-family=\"Times,serif\" font-size=\"14.00\" fill=\"#000000\">value = [7, 564]</text>\n<text text-anchor=\"middle\" x=\"1658\" y=\"-7.8\" font-family=\"Times,serif\" font-size=\"14.00\" fill=\"#000000\">class = 만족</text>\n</g>\n<!-- 26&#45;&gt;28 -->\n<g id=\"edge28\" class=\"edge\">\n<title>26&#45;&gt;28</title>\n<path fill=\"none\" stroke=\"#000000\" d=\"M1572.5383,-88.9777C1585.6901,-79.3629 1599.9743,-68.9203 1613.032,-59.3743\"/>\n<polygon fill=\"#000000\" stroke=\"#000000\" points=\"1615.4042,-61.9757 1621.4114,-53.2485 1611.273,-56.3247 1615.4042,-61.9757\"/>\n</g>\n</g>\n</svg>\n"
          },
          "metadata": {
            "tags": []
          }
        }
      ]
    },
    {
      "cell_type": "markdown",
      "metadata": {
        "id": "-bWfQ1kxAY-M"
      },
      "source": [
        "* 깊이 4인 트리에서 루트 노드의 오른쪽 가지를 따라가면 (YPSY3A02w1 > 2.5) 최종 571개 샘플에서 만족 564, 불만 7인 노드를 만나게 된다(불만이 7로 과대적합 줄어듬)"
      ]
    },
    {
      "cell_type": "markdown",
      "metadata": {
        "id": "5ruWzBq4DEOE"
      },
      "source": [
        "### 트리의 특성 중요도"
      ]
    },
    {
      "cell_type": "code",
      "metadata": {
        "id": "cxxHqKqiAPIW",
        "outputId": "93223657-a07b-45ad-b15f-e6781013e42d",
        "colab": {
          "base_uri": "https://localhost:8080/"
        }
      },
      "source": [
        "print(\"특성 중요도:\\n\", tree.feature_importances_)"
      ],
      "execution_count": null,
      "outputs": [
        {
          "output_type": "stream",
          "text": [
            "특성 중요도:\n",
            " [0.02009582 0.01626052 0.         0.         0.04260766 0.00981908\n",
            " 0.17122525 0.71292131 0.0108068  0.01626355 0.        ]\n"
          ],
          "name": "stdout"
        }
      ]
    },
    {
      "cell_type": "markdown",
      "metadata": {
        "id": "cT7nkta6DK5p"
      },
      "source": [
        "* 트리가 어떻게 작동하는지 요약하는 속성\n",
        "* 트리를 만다는 결정에 각 특성이 얼마나 중요한지를 평가\n",
        "* 1은 완벽하게 타깃 클래스를 예측했다는 의미\n"
      ]
    },
    {
      "cell_type": "code",
      "metadata": {
        "id": "D0tnZ921OtG0",
        "outputId": "04f36c11-6aad-4a86-f2e5-99876e038738",
        "colab": {
          "base_uri": "https://localhost:8080/",
          "height": 279
        }
      },
      "source": [
        "def plot_feature_importances_mynpl(model):\n",
        "    n_features = X.shape[1]\n",
        "    plt.barh(np.arange(n_features), model.feature_importances_, align='center')\n",
        "    plt.yticks(np.arange(n_features), feature_cols)\n",
        "    plt.xlabel(\"특성 중요도\")\n",
        "    plt.ylabel(\"특성\")\n",
        "    plt.ylim(-1, n_features)\n",
        "\n",
        "plot_feature_importances_mynpl(tree)"
      ],
      "execution_count": null,
      "outputs": [
        {
          "output_type": "display_data",
          "data": {
            "image/png": "[encoded data removed]",
            "text/plain": [
              "<Figure size 432x288 with 1 Axes>"
            ]
          },
          "metadata": {
            "tags": [],
            "needs_background": "light"
          }
        }
      ]
    },
    {
      "cell_type": "markdown",
      "metadata": {
        "id": "YpmuBm9ADk4z"
      },
      "source": [
        "* 첫 번째 노드에서 사용한 'YPSY3A01w1'이 가장 중요한 특성으로 나타남"
      ]
    },
    {
      "cell_type": "markdown",
      "metadata": {
        "id": "QQQ4qdIHD2nd"
      },
      "source": [
        "## 랜덤 포레스트"
      ]
    },
    {
      "cell_type": "code",
      "metadata": {
        "id": "RHwiYdV5Ou_r",
        "outputId": "db15c3c5-ee88-47cc-85a8-d9fe4f7b3dad",
        "colab": {
          "base_uri": "https://localhost:8080/"
        }
      },
      "source": [
        "from sklearn.ensemble import RandomForestClassifier\n",
        "X_train, X_test, y_train, y_test = train_test_split(\n",
        "    X, Y, random_state=0)\n",
        "forest = RandomForestClassifier(n_estimators=100, random_state=0)\n",
        "forest.fit(X_train, y_train)\n",
        "\n",
        "print(\"훈련 세트 정확도: {:.3f}\".format(forest.score(X_train, y_train)))\n",
        "print(\"테스트 세트 정확도: {:.3f}\".format(forest.score(X_test, y_test)))"
      ],
      "execution_count": null,
      "outputs": [
        {
          "output_type": "stream",
          "text": [
            "훈련 세트 정확도: 0.982\n",
            "테스트 세트 정확도: 0.872\n"
          ],
          "name": "stdout"
        }
      ]
    },
    {
      "cell_type": "markdown",
      "metadata": {
        "id": "zhp4WJMzGk3L"
      },
      "source": [
        "* 깊이 4로 제한한 의사결정나무 결과와 비교했을 때 훈련 세트 정확도가 높아졌음에도(과대적합 우려에도 불구하고) 테스트 세트 정확도는 같은 수준을 유지함  "
      ]
    },
    {
      "cell_type": "code",
      "metadata": {
        "id": "0aKmHG6wHz12",
        "outputId": "fa4cb58d-12e5-4b57-f115-8b0ff0583d88",
        "colab": {
          "base_uri": "https://localhost:8080/",
          "height": 279
        }
      },
      "source": [
        "plot_feature_importances_mynpl(forest)"
      ],
      "execution_count": null,
      "outputs": [
        {
          "output_type": "display_data",
          "data": {
            "image/png": "[encoded data removed]",
            "text/plain": [
              "<Figure size 432x288 with 1 Axes>"
            ]
          },
          "metadata": {
            "tags": [],
            "needs_background": "light"
          }
        }
      ]
    },
    {
      "cell_type": "markdown",
      "metadata": {
        "id": "dHjrwgOmITFa"
      },
      "source": [
        "* 랜덤포레스트의 특성 중요도는 의사결정나무에서 하나의 트리가 제공하는 것 보다 더 신뢰할 만함\n",
        "* 의사결정나무 보다 훨씬 많은 특성이 0 이상의 중요도 값을 가짐\n",
        "* 의사결정나무 결과 대비 YPSY2A01w1 보다 YPSY3A10w1를 더 중요한 특성으로 계산함."
      ]
    },
    {
      "cell_type": "markdown",
      "metadata": {
        "id": "xK4SmFr7P6xi"
      },
      "source": [
        "## 그레이디언트 부스팅 회귀 트리"
      ]
    },
    {
      "cell_type": "code",
      "metadata": {
        "id": "0XJ5fyC5Ow-C",
        "outputId": "bf1033fc-d571-417c-8a43-3d47c4ccc0dc",
        "colab": {
          "base_uri": "https://localhost:8080/"
        }
      },
      "source": [
        "from sklearn.ensemble import GradientBoostingClassifier\n",
        "\n",
        "X_train, X_test, y_train, y_test = train_test_split(\n",
        "    X, Y, random_state=0)\n",
        "\n",
        "gbrt = GradientBoostingClassifier(random_state=0)\n",
        "gbrt.fit(X_train, y_train)\n",
        "\n",
        "print(\"훈련 세트 정확도: {:.3f}\".format(gbrt.score(X_train, y_train)))\n",
        "print(\"테스트 세트 정확도: {:.3f}\".format(gbrt.score(X_test, y_test)))"
      ],
      "execution_count": null,
      "outputs": [
        {
          "output_type": "stream",
          "text": [
            "훈련 세트 정확도: 0.911\n",
            "테스트 세트 정확도: 0.878\n"
          ],
          "name": "stdout"
        }
      ]
    },
    {
      "cell_type": "markdown",
      "metadata": {
        "id": "shc0pC59Qdsv"
      },
      "source": [
        "* 기본값인 깊이가 3인 트리 100개와 학습률 0.1을 사용함"
      ]
    },
    {
      "cell_type": "code",
      "metadata": {
        "id": "-lNfPAshOyP3",
        "outputId": "e28575fa-24a5-43ca-a916-f090d2dd1ec1",
        "colab": {
          "base_uri": "https://localhost:8080/"
        }
      },
      "source": [
        "gbrt = GradientBoostingClassifier(random_state=0, max_depth=1)\n",
        "gbrt.fit(X_train, y_train)\n",
        "\n",
        "print(\"훈련 세트 정확도: {:.3f}\".format(gbrt.score(X_train, y_train)))\n",
        "print(\"테스트 세트 정확도: {:.3f}\".format(gbrt.score(X_test, y_test)))"
      ],
      "execution_count": null,
      "outputs": [
        {
          "output_type": "stream",
          "text": [
            "훈련 세트 정확도: 0.883\n",
            "테스트 세트 정확도: 0.884\n"
          ],
          "name": "stdout"
        }
      ]
    },
    {
      "cell_type": "markdown",
      "metadata": {
        "id": "F_Wjk36SQsLu"
      },
      "source": [
        "* 과대적합을 막기 위해서 트리의 최대 깊이를 줄여(max_depth=1) 사전 가지치기를 강하게 함"
      ]
    },
    {
      "cell_type": "code",
      "metadata": {
        "id": "Ou0CQa1ROzmg",
        "outputId": "1544bccc-5e78-44fb-e674-3f658f334608",
        "colab": {
          "base_uri": "https://localhost:8080/"
        }
      },
      "source": [
        "gbrt = GradientBoostingClassifier(random_state=0, learning_rate=0.01)\n",
        "gbrt.fit(X_train, y_train)\n",
        "\n",
        "print(\"훈련 세트 정확도: {:.3f}\".format(gbrt.score(X_train, y_train)))\n",
        "print(\"테스트 세트 정확도: {:.3f}\".format(gbrt.score(X_test, y_test)))"
      ],
      "execution_count": null,
      "outputs": [
        {
          "output_type": "stream",
          "text": [
            "훈련 세트 정확도: 0.875\n",
            "테스트 세트 정확도: 0.880\n"
          ],
          "name": "stdout"
        }
      ]
    },
    {
      "cell_type": "markdown",
      "metadata": {
        "id": "CxetUbwjRAd6"
      },
      "source": [
        "* 과대적합을 막기 위해서 트리의 학습률을 낮춤(learning_Rate=0.1)"
      ]
    },
    {
      "cell_type": "code",
      "metadata": {
        "id": "Tqe8clfvO087",
        "outputId": "b9e83670-3556-4da7-9e82-b18b98914cab",
        "colab": {
          "base_uri": "https://localhost:8080/",
          "height": 279
        }
      },
      "source": [
        "gbrt = GradientBoostingClassifier(random_state=0, max_depth=1)\n",
        "gbrt.fit(X_train, y_train)\n",
        "\n",
        "plot_feature_importances_mynpl(gbrt)"
      ],
      "execution_count": null,
      "outputs": [
        {
          "output_type": "display_data",
          "data": {
            "image/png": "[encoded data removed]",
            "text/plain": [
              "<Figure size 432x288 with 1 Axes>"
            ]
          },
          "metadata": {
            "tags": [],
            "needs_background": "light"
          }
        }
      ]
    },
    {
      "cell_type": "markdown",
      "metadata": {
        "id": "OjomfAQKRTXK"
      },
      "source": [
        "* 랜덤 포레스트의 특성 중요도와 비교시, 주요 4개 특성은 랜덤 포레스트와 비슷한 특성을 강조하고 있지만, 나머지 특성은 무시됨"
      ]
    },
    {
      "cell_type": "markdown",
      "metadata": {
        "id": "uLqaDi0vJH-G"
      },
      "source": [
        "## 배깅"
      ]
    },
    {
      "cell_type": "markdown",
      "metadata": {
        "id": "KzxIDE_BNNj_"
      },
      "source": [
        "### 배깅을 사용하여 로지스틱 회귀 모델을 100개 훈련하여 앙상불"
      ]
    },
    {
      "cell_type": "code",
      "metadata": {
        "id": "NCSSUn-PJOYS",
        "outputId": "34faf3ab-8a72-4004-b5d9-b0980fcfa2b5",
        "colab": {
          "base_uri": "https://localhost:8080/"
        }
      },
      "source": [
        "from sklearn.linear_model import LogisticRegression\n",
        "from sklearn.ensemble import BaggingClassifier\n",
        "bagging = BaggingClassifier(LogisticRegression(), n_estimators=100, \n",
        "                            oob_score=True, n_jobs=-1, random_state=42)\n",
        "bagging.fit(X_train, y_train)"
      ],
      "execution_count": null,
      "outputs": [
        {
          "output_type": "execute_result",
          "data": {
            "text/plain": [
              "BaggingClassifier(base_estimator=LogisticRegression(C=1.0, class_weight=None,\n",
              "                                                    dual=False,\n",
              "                                                    fit_intercept=True,\n",
              "                                                    intercept_scaling=1,\n",
              "                                                    l1_ratio=None, max_iter=100,\n",
              "                                                    multi_class='auto',\n",
              "                                                    n_jobs=None, penalty='l2',\n",
              "                                                    random_state=None,\n",
              "                                                    solver='lbfgs', tol=0.0001,\n",
              "                                                    verbose=0,\n",
              "                                                    warm_start=False),\n",
              "                  bootstrap=True, bootstrap_features=False, max_features=1.0,\n",
              "                  max_samples=1.0, n_estimators=100, n_jobs=-1, oob_score=True,\n",
              "                  random_state=42, verbose=0, warm_start=False)"
            ]
          },
          "metadata": {
            "tags": []
          },
          "execution_count": 25
        }
      ]
    },
    {
      "cell_type": "code",
      "metadata": {
        "id": "SbRvQ7BYJkxL",
        "outputId": "8713ba94-74bf-4e9e-8200-d2a8a82e0212",
        "colab": {
          "base_uri": "https://localhost:8080/"
        }
      },
      "source": [
        "print(\"훈련 세트 정확도: {:.3f}\".format(bagging.score(X_train, y_train)))\n",
        "print(\"테스트 세트 정확도: {:.3f}\".format(bagging.score(X_test, y_test)))\n",
        "print(\"OOB 샘플의 정확도: {:.3f}\".format(bagging.oob_score_))"
      ],
      "execution_count": null,
      "outputs": [
        {
          "output_type": "stream",
          "text": [
            "훈련 세트 정확도: 0.885\n",
            "테스트 세트 정확도: 0.892\n",
            "OOB 샘플의 정확도: 0.881\n"
          ],
          "name": "stdout"
        }
      ]
    },
    {
      "cell_type": "markdown",
      "metadata": {
        "id": "EN80HxYJTR8G"
      },
      "source": [
        "* 훈련할 분류기 개수를 100개로 지정\n",
        "* 부트스트래핑에 포함되지 않은 샘플을 기반으로 훈련된 모델을 평가(oob_score = True)"
      ]
    },
    {
      "cell_type": "markdown",
      "metadata": {
        "id": "WJnZqBTUNauA"
      },
      "source": [
        "### 의사결정나무에 배깅을 적용"
      ]
    },
    {
      "cell_type": "code",
      "metadata": {
        "id": "UQyJx6yuJ6sa",
        "outputId": "d8bc20bd-9b1a-4d09-d596-fb020cd8cc72",
        "colab": {
          "base_uri": "https://localhost:8080/"
        }
      },
      "source": [
        "bagging = BaggingClassifier(DecisionTreeClassifier(), n_estimators=100, \n",
        "                            oob_score=True, n_jobs=-1, random_state=42)\n",
        "bagging.fit(X_train, y_train)"
      ],
      "execution_count": null,
      "outputs": [
        {
          "output_type": "execute_result",
          "data": {
            "text/plain": [
              "BaggingClassifier(base_estimator=DecisionTreeClassifier(ccp_alpha=0.0,\n",
              "                                                        class_weight=None,\n",
              "                                                        criterion='gini',\n",
              "                                                        max_depth=None,\n",
              "                                                        max_features=None,\n",
              "                                                        max_leaf_nodes=None,\n",
              "                                                        min_impurity_decrease=0.0,\n",
              "                                                        min_impurity_split=None,\n",
              "                                                        min_samples_leaf=1,\n",
              "                                                        min_samples_split=2,\n",
              "                                                        min_weight_fraction_leaf=0.0,\n",
              "                                                        presort='deprecated',\n",
              "                                                        random_state=None,\n",
              "                                                        splitter='best'),\n",
              "                  bootstrap=True, bootstrap_features=False, max_features=1.0,\n",
              "                  max_samples=1.0, n_estimators=100, n_jobs=-1, oob_score=True,\n",
              "                  random_state=42, verbose=0, warm_start=False)"
            ]
          },
          "metadata": {
            "tags": []
          },
          "execution_count": 27
        }
      ]
    },
    {
      "cell_type": "code",
      "metadata": {
        "id": "3xC2QlQANCxl",
        "outputId": "26e7c213-bf85-4fce-8f4f-23928d95399e",
        "colab": {
          "base_uri": "https://localhost:8080/"
        }
      },
      "source": [
        "print(\"훈련 세트 정확도: {:.3f}\".format(bagging.score(X_train, y_train)))\n",
        "print(\"테스트 세트 정확도: {:.3f}\".format(bagging.score(X_test, y_test)))\n",
        "print(\"OOB 샘플의 정확도: {:.3f}\".format(bagging.oob_score_))"
      ],
      "execution_count": null,
      "outputs": [
        {
          "output_type": "stream",
          "text": [
            "훈련 세트 정확도: 0.982\n",
            "테스트 세트 정확도: 0.858\n",
            "OOB 샘플의 정확도: 0.863\n"
          ],
          "name": "stdout"
        }
      ]
    },
    {
      "cell_type": "markdown",
      "metadata": {
        "id": "zEwk1t8kTH4Y"
      },
      "source": [
        "* n_estimators 를 100으로 지정하여 배깅을 사용한 결과 로지스틱 회귀 모델에 배깅을 사용한 결과보다 정확도가 떨어짐"
      ]
    },
    {
      "cell_type": "markdown",
      "metadata": {
        "id": "tWz57ZgnOU65"
      },
      "source": [
        "## ExtraTrees"
      ]
    },
    {
      "cell_type": "code",
      "metadata": {
        "id": "qMtU4ZXKOEAP",
        "outputId": "6bf211c3-82a3-471a-88ec-007346f14999",
        "colab": {
          "base_uri": "https://localhost:8080/"
        }
      },
      "source": [
        "from sklearn.ensemble import ExtraTreesClassifier\n",
        "xtree = ExtraTreesClassifier(n_estimators=100, n_jobs=-1, random_state=0)\n",
        "xtree.fit(X_train, y_train)"
      ],
      "execution_count": null,
      "outputs": [
        {
          "output_type": "execute_result",
          "data": {
            "text/plain": [
              "ExtraTreesClassifier(bootstrap=False, ccp_alpha=0.0, class_weight=None,\n",
              "                     criterion='gini', max_depth=None, max_features='auto',\n",
              "                     max_leaf_nodes=None, max_samples=None,\n",
              "                     min_impurity_decrease=0.0, min_impurity_split=None,\n",
              "                     min_samples_leaf=1, min_samples_split=2,\n",
              "                     min_weight_fraction_leaf=0.0, n_estimators=100, n_jobs=-1,\n",
              "                     oob_score=False, random_state=0, verbose=0,\n",
              "                     warm_start=False)"
            ]
          },
          "metadata": {
            "tags": []
          },
          "execution_count": 29
        }
      ]
    },
    {
      "cell_type": "code",
      "metadata": {
        "id": "PhApDLNcOg8g",
        "outputId": "3094b4e6-a24d-4547-8da8-63b4a887b158",
        "colab": {
          "base_uri": "https://localhost:8080/"
        }
      },
      "source": [
        "print(\"훈련 세트 정확도: {:.3f}\".format(xtree.score(X_train, y_train)))\n",
        "print(\"테스트 세트 정확도: {:.3f}\".format(xtree.score(X_test, y_test)))"
      ],
      "execution_count": null,
      "outputs": [
        {
          "output_type": "stream",
          "text": [
            "훈련 세트 정확도: 0.982\n",
            "테스트 세트 정확도: 0.863\n"
          ],
          "name": "stdout"
        }
      ]
    },
    {
      "cell_type": "markdown",
      "metadata": {
        "id": "Ei5oeMRESuCz"
      },
      "source": [
        "* 랜덤 포레스트와 비슷한 정확도를 냄\n",
        "* 엑스트라 트리가 랜덤 포레스트보다 계산 비용이 적지만 부작위 분할 때문에 일반화 성능을 높이려면 많은 트리를 만들어야 함."
      ]
    },
    {
      "cell_type": "code",
      "metadata": {
        "id": "C_gMkCVdOn_Y",
        "outputId": "7f17ef55-582b-44ce-bc22-ac36654dbb65",
        "colab": {
          "base_uri": "https://localhost:8080/",
          "height": 279
        }
      },
      "source": [
        "n_features = X.shape[1]\n",
        "plt.barh(range(n_features), xtree.feature_importances_, align='center')\n",
        "plt.yticks(np.arange(n_features), feature_cols)\n",
        "plt.xlabel(\"특성 중요도\")\n",
        "plt.ylabel(\"특성\")\n",
        "plt.ylim(-1, n_features)\n",
        "plt.show()"
      ],
      "execution_count": null,
      "outputs": [
        {
          "output_type": "display_data",
          "data": {
            "image/png": "[encoded data removed]",
            "text/plain": [
              "<Figure size 432x288 with 1 Axes>"
            ]
          },
          "metadata": {
            "tags": [],
            "needs_background": "light"
          }
        }
      ]
    },
    {
      "cell_type": "markdown",
      "metadata": {
        "id": "W-yk74KYUprq"
      },
      "source": [
        "* 랜덤포레스트 결과와 비슷함"
      ]
    },
    {
      "cell_type": "markdown",
      "metadata": {
        "id": "xJDedIMXPTBd"
      },
      "source": [
        "## AdaBoost"
      ]
    },
    {
      "cell_type": "code",
      "metadata": {
        "id": "KmuPVwnvPV-O",
        "outputId": "9114730d-aeb7-4ae7-8071-78048eca229b",
        "colab": {
          "base_uri": "https://localhost:8080/"
        }
      },
      "source": [
        "from sklearn.ensemble import AdaBoostClassifier\n",
        "ada = AdaBoostClassifier(n_estimators=100, random_state=42)\n",
        "ada.fit(X_train, y_train)"
      ],
      "execution_count": null,
      "outputs": [
        {
          "output_type": "execute_result",
          "data": {
            "text/plain": [
              "AdaBoostClassifier(algorithm='SAMME.R', base_estimator=None, learning_rate=1.0,\n",
              "                   n_estimators=100, random_state=42)"
            ]
          },
          "metadata": {
            "tags": []
          },
          "execution_count": 32
        }
      ]
    },
    {
      "cell_type": "code",
      "metadata": {
        "id": "HwGEBrdJPcC2",
        "outputId": "58e12734-34d2-4a7b-f6e5-7ecbd81c0b08",
        "colab": {
          "base_uri": "https://localhost:8080/"
        }
      },
      "source": [
        "print(\"훈련 세트 정확도: {:.3f}\".format(ada.score(X_train, y_train)))\n",
        "print(\"테스트 세트 정확도: {:.3f}\".format(ada.score(X_test, y_test)))"
      ],
      "execution_count": null,
      "outputs": [
        {
          "output_type": "stream",
          "text": [
            "훈련 세트 정확도: 0.881\n",
            "테스트 세트 정확도: 0.886\n"
          ],
          "name": "stdout"
        }
      ]
    },
    {
      "cell_type": "markdown",
      "metadata": {
        "id": "5XJajm-xU5ei"
      },
      "source": [
        "* 일반화 성능이 더 향상 됨\n",
        "* 테스트 세트 정확도 높아짐"
      ]
    },
    {
      "cell_type": "code",
      "metadata": {
        "id": "5-TPrZ4gPhvb",
        "outputId": "692aa535-30fe-4303-c73f-9831414d1223",
        "colab": {
          "base_uri": "https://localhost:8080/",
          "height": 279
        }
      },
      "source": [
        "plt.barh(range(n_features), ada.feature_importances_, align='center')\n",
        "plt.yticks(np.arange(n_features), feature_cols)\n",
        "plt.xlabel(\"특성 중요도\")\n",
        "plt.ylabel(\"특성\")\n",
        "plt.ylim(-1, n_features)\n",
        "plt.show()"
      ],
      "execution_count": null,
      "outputs": [
        {
          "output_type": "display_data",
          "data": {
            "image/png": "[encoded data removed]",
            "text/plain": [
              "<Figure size 432x288 with 1 Axes>"
            ]
          },
          "metadata": {
            "tags": [],
            "needs_background": "light"
          }
        }
      ]
    },
    {
      "cell_type": "markdown",
      "metadata": {
        "id": "ka8lukKwVHPN"
      },
      "source": [
        "* 다른 모델에서 중요도가 낮았던 YEDU1A00w1 이 가장 높음"
      ]
    },
    {
      "cell_type": "markdown",
      "metadata": {
        "id": "1utMLOBNVazt"
      },
      "source": [
        "## 서포트 벡터 머신(SVM)"
      ]
    },
    {
      "cell_type": "code",
      "metadata": {
        "id": "9LXO2rTHO2RA",
        "outputId": "82fa6914-14ea-4132-8243-d6730cd0de0d",
        "colab": {
          "base_uri": "https://localhost:8080/"
        }
      },
      "source": [
        "from sklearn.svm import SVC\n",
        "\n",
        "svc = SVC()\n",
        "svc.fit(X_train, y_train)\n",
        "\n",
        "print(\"훈련 세트 정확도: {:.2f}\".format(svc.score(X_train, y_train)))\n",
        "print(\"테스트 세트 정확도: {:.2f}\".format(svc.score(X_test, y_test)))"
      ],
      "execution_count": null,
      "outputs": [
        {
          "output_type": "stream",
          "text": [
            "훈련 세트 정확도: 0.90\n",
            "테스트 세트 정확도: 0.89\n"
          ],
          "name": "stdout"
        }
      ]
    },
    {
      "cell_type": "markdown",
      "metadata": {
        "id": "P_L0wxxWWouZ"
      },
      "source": [
        "* 테스트 정확도가 높게 확인 됨"
      ]
    },
    {
      "cell_type": "markdown",
      "metadata": {
        "id": "g4OjY1GgWkPv"
      },
      "source": [
        "## 신경망"
      ]
    },
    {
      "cell_type": "markdown",
      "metadata": {
        "id": "HeZFh_-vXJry"
      },
      "source": [
        "### MLPClassifier 적용"
      ]
    },
    {
      "cell_type": "code",
      "metadata": {
        "id": "AOaGWQGxPAcA",
        "outputId": "de8e101b-aa55-4bd5-c6c2-8f9b97a2e656",
        "colab": {
          "base_uri": "https://localhost:8080/"
        }
      },
      "source": [
        "from sklearn.neural_network import MLPClassifier\n",
        "X_train, X_test, y_train, y_test = train_test_split(\n",
        "    X,Y, random_state=0)\n",
        "\n",
        "mlp = MLPClassifier(random_state=42,max_iter=1000)\n",
        "mlp.fit(X_train, y_train)\n",
        "\n",
        "print(\"훈련 세트 정확도: {:.2f}\".format(mlp.score(X_train, y_train)))\n",
        "print(\"테스트 세트 정확도: {:.2f}\".format(mlp.score(X_test, y_test)))"
      ],
      "execution_count": null,
      "outputs": [
        {
          "output_type": "stream",
          "text": [
            "훈련 세트 정확도: 0.89\n",
            "테스트 세트 정확도: 0.88\n"
          ],
          "name": "stdout"
        }
      ]
    },
    {
      "cell_type": "markdown",
      "metadata": {
        "id": "1OwrsK47XwSg"
      },
      "source": [
        "### 입력 특성을 평균 0, 분산 1로 변형"
      ]
    },
    {
      "cell_type": "code",
      "metadata": {
        "id": "P-vtSoggPB4i",
        "outputId": "ef9adb33-84e2-4956-e837-6d1c662c69a7",
        "colab": {
          "base_uri": "https://localhost:8080/"
        }
      },
      "source": [
        "# 훈련 세트 각 특성의 평균 계산\n",
        "mean_on_train = X_train.mean(axis=0)\n",
        "# 표준 편차 계산\n",
        "std_on_train = X_train.std(axis=0)\n",
        "\n",
        "# 평균 0, 표준 편차 1 인 데이터로 변환\n",
        "X_train_scaled = (X_train - mean_on_train) / std_on_train\n",
        "# 테스트 세트 적용 \n",
        "X_test_scaled = (X_test - mean_on_train) / std_on_train\n",
        "\n",
        "mlp = MLPClassifier(random_state=0, max_iter=2000)\n",
        "mlp.fit(X_train_scaled, y_train)\n",
        "\n",
        "print(\"훈련 세트 정확도: {:.3f}\".format(mlp.score(X_train_scaled, y_train)))\n",
        "print(\"테스트 세트 정확도: {:.3f}\".format(mlp.score(X_test_scaled, y_test)))"
      ],
      "execution_count": null,
      "outputs": [
        {
          "output_type": "stream",
          "text": [
            "훈련 세트 정확도: 0.974\n",
            "테스트 세트 정확도: 0.866\n"
          ],
          "name": "stdout"
        }
      ]
    },
    {
      "cell_type": "markdown",
      "metadata": {
        "id": "2GlKrx52YFcw"
      },
      "source": [
        "* 데이터의 스케일링 후 일반화 성능이 높아짐"
      ]
    },
    {
      "cell_type": "markdown",
      "metadata": {
        "id": "1glbSUG8ZXSY"
      },
      "source": [
        "### 반복 횟수를 1500으로 늘림"
      ]
    },
    {
      "cell_type": "code",
      "metadata": {
        "id": "vu6sOzMAPDNM",
        "outputId": "88f4f158-db17-4559-c2e1-1d948da3a5e0",
        "colab": {
          "base_uri": "https://localhost:8080/"
        }
      },
      "source": [
        "mlp = MLPClassifier(max_iter=1500, random_state=0)\n",
        "mlp.fit(X_train_scaled, y_train)\n",
        "\n",
        "print(\"훈련 세트 정확도: {:.3f}\".format(mlp.score(X_train_scaled, y_train)))\n",
        "print(\"테스트 세트 정확도: {:.3f}\".format(mlp.score(X_test_scaled, y_test)))"
      ],
      "execution_count": null,
      "outputs": [
        {
          "output_type": "stream",
          "text": [
            "훈련 세트 정확도: 0.974\n",
            "테스트 세트 정확도: 0.866\n"
          ],
          "name": "stdout"
        }
      ]
    },
    {
      "cell_type": "markdown",
      "metadata": {
        "id": "1_8tJdkaYmaA"
      },
      "source": [
        "### 가중치를 더 강하게 규제하도록 alpha 매개변수를 1로 크게 증가시킴"
      ]
    },
    {
      "cell_type": "code",
      "metadata": {
        "id": "XV65vKgcPEaN",
        "outputId": "1414d6dd-6bf8-45b2-e13e-a305bcd9d49e",
        "colab": {
          "base_uri": "https://localhost:8080/"
        }
      },
      "source": [
        "mlp = MLPClassifier(max_iter=1500, alpha=1, random_state=0)\n",
        "mlp.fit(X_train_scaled, y_train)\n",
        "\n",
        "print(\"훈련 세트 정확도: {:.3f}\".format(mlp.score(X_train_scaled, y_train)))\n",
        "print(\"테스트 세트 정확도: {:.3f}\".format(mlp.score(X_test_scaled, y_test)))"
      ],
      "execution_count": null,
      "outputs": [
        {
          "output_type": "stream",
          "text": [
            "훈련 세트 정확도: 0.892\n",
            "테스트 세트 정확도: 0.894\n"
          ],
          "name": "stdout"
        }
      ]
    },
    {
      "cell_type": "markdown",
      "metadata": {
        "id": "SJs0kUIgYtAI"
      },
      "source": [
        "* 모델 성능이 더 높아짐"
      ]
    },
    {
      "cell_type": "code",
      "metadata": {
        "id": "ynnrufT_PG2_",
        "outputId": "3e84b094-c663-4dc6-db64-51dafcc9fbc5",
        "colab": {
          "base_uri": "https://localhost:8080/",
          "height": 265
        }
      },
      "source": [
        "plt.figure(figsize=(20, 3))\n",
        "plt.imshow(mlp.coefs_[0], interpolation='none', cmap='viridis')\n",
        "plt.yticks(range(11), feature_cols)\n",
        "plt.xlabel(\"은닉 유닛\")\n",
        "plt.ylabel(\"입력 특성\")\n",
        "plt.colorbar()"
      ],
      "execution_count": null,
      "outputs": [
        {
          "output_type": "execute_result",
          "data": {
            "text/plain": [
              "<matplotlib.colorbar.Colorbar at 0x7fdd37d97b70>"
            ]
          },
          "metadata": {
            "tags": []
          },
          "execution_count": 40
        },
        {
          "output_type": "stream",
          "text": [
            "/usr/local/lib/python3.6/dist-packages/matplotlib/backends/backend_agg.py:214: RuntimeWarning: Glyph 8722 missing from current font.\n",
            "  font.set_text(s, 0.0, flags=flags)\n",
            "/usr/local/lib/python3.6/dist-packages/matplotlib/backends/backend_agg.py:183: RuntimeWarning: Glyph 8722 missing from current font.\n",
            "  font.set_text(s, 0, flags=flags)\n"
          ],
          "name": "stderr"
        },
        {
          "output_type": "display_data",
          "data": {
            "image/png": "[encoded data removed]",
            "text/plain": [
              "<Figure size 1440x216 with 2 Axes>"
            ]
          },
          "metadata": {
            "tags": [],
            "needs_background": "light"
          }
        }
      ]
    }
  ]
}